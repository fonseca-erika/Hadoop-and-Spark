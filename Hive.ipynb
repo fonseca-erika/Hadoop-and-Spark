{
 "cells": [
  {
   "cell_type": "markdown",
   "metadata": {},
   "source": [
    "<img src=\"https://upload.wikimedia.org/wikipedia/commons/thumb/b/bb/Apache_Hive_logo.svg/1200px-Apache_Hive_logo.svg.png\" align =\"left\" width = 10%>\n",
    "<h1><div class=\"alert alert-block alert-info\">\n",
    "Hadoop Hive\n",
    "</div></h1>\n",
    "\n",
    "The Apache Hive ™ data warehouse software facilitates reading, writing, and managing large datasets residing in distributed storage using SQL. Structure can be projected onto data already in storage. A command line tool and JDBC driver are provided to connect users to Hive.\n",
    "\n",
    "<img src=\"https://3.bp.blogspot.com/-aZAMQztmmy0/WqbtksLeDpI/AAAAAAAACKg/hD8H0UsQGM8SulDBy1nR1Hr_Ra8IcTxSACLcBGAs/s640/hivearchitecture.png\">"
   ]
  },
  {
   "cell_type": "markdown",
   "metadata": {},
   "source": [
    "<h1><font color ='blue'>Practice in Hive</font></h1>\n",
    "\n",
    "<b>- Configuring the environment:</b>\n",
    "\n",
    "a) Upload the file that is going to be used:\n",
    "\n",
    "scp driver.csv e.luizfonseca-dsti@edge-1.au.adaltas.cloud:\n",
    "\n",
    "b) Transfering the file to HDFS\n",
    "\n",
    "hdfs dfs -mkdir drivers_raw\n",
    "\n",
    "hdfs dfs -put drivers.csv drivers_raw/drivers.csv\n",
    "\n",
    "<b>- Connecting to Hive:</b>\n",
    "\n",
    "beeline -u \"jdbc:hive2://zoo-1.au.adaltas.cloud:2181,zoo-2.au.adaltas.cloud:2181,zoo-3.au.adaltas.cloud:2181/dsti;serviceDiscoveryMode=zooKeeper;zooKeeperNamespace=hiveserver2;\"\n",
    "\n",
    "# CSV File\n",
    "\n",
    "<b>- Create an external table:</b>\n",
    "\n",
    "CREATE EXTERNAL TABLE drivers_erika_csv (driverID int, name string, ssn string, location string, certified string, wageplan string)\n",
    "row format delimited\n",
    "fields terminated by ',' \n",
    "lines terminated by '\\n' \n",
    "LOCATION 'user/e.luizfonseca-dsti/drivers_raw'\n",
    "tblproperties (\"skip.header.line.count\"=\"1\");\n",
    "\n",
    "<b>- Importing data from CSV to table:</b>\n",
    "\n",
    "load data inpath '/user/e.luizfonseca-dsti/drivers_raw/drivers.csv' into table drivers_erika_csv;\n",
    "\n",
    "SELECT * FROM drivers_erika_csv LIMIT 20;\n",
    "\n",
    "<b>- Create an external ORC table:</b>\n",
    "\n",
    "CREATE EXTERNAL TABLE drivers_erika_ORC (driverID int, name string, ssn string, location string, certified string, wageplan string)\n",
    "STORED AS ORC\n",
    "location 'user/e.luizfonseca-dsti/drivers_raw';\n",
    "\n",
    "<b>- Loading the data to the ORC table:</b>\n",
    "\n",
    "INSERT INTO TABLE drivers_erika_ORC SELECT * FROM drivers_erika_csv;"
   ]
  },
  {
   "cell_type": "markdown",
   "metadata": {},
   "source": [
    "### 💡 Creating an script to connect to Hive\n",
    "\n",
    "<b>- Organizing the structure</b>\n",
    "\n",
    "mkdir script\n",
    "\n",
    "cd script/\n",
    "\n",
    "<b>- Creating a file</b>\n",
    "\n",
    "a) Creating a file\n",
    "\n",
    "vi bee-connect.sh\n",
    "\n",
    "write the beeline connection string (eg. beeline -u \"jdbc:hive2://zoo-1.au.adaltas.cloud:2181,zoo-2.au.adaltas.cloud:2181,zoo-3.au.adaltas.cloud:2181/dsti;serviceDiscoveryMode=zooKeeper;zooKeeperNamespace=hiveserver2;\") and save the file using :wq\n",
    "\n",
    "b) Check if the file can be executed\n",
    "\n",
    "ls -la\n",
    "\n",
    "If it is not executable, change the permissions using the command:\n",
    "\n",
    "chmod +x bee-connect.sh\n",
    "cd ..\n",
    "\n",
    "c) Test the connection\n",
    "\n",
    "From now on we can use simple this command to load the connect with Hive.\n",
    "\n",
    "./script/bee-connect.sh"
   ]
  },
  {
   "cell_type": "markdown",
   "metadata": {},
   "source": [
    "# Internet Movie Database - IMDb"
   ]
  },
  {
   "cell_type": "markdown",
   "metadata": {},
   "source": [
    "IMDB Tables:\n",
    "\n",
    "- | imdb_name_basics              |\n",
    "\n",
    "- | imdb_title_basics             |\n",
    "\n",
    "- | imdb_title_crew               |\n",
    "\n",
    "- | imdb_title_ratings            |\n",
    "\n",
    "#### 1) Number of titles with duration superior than 2 hours.\n",
    "\n",
    "SELECT COUNT(*) FROM imdb_title_basics WHERE RUNTIMEMINUTES > 120;"
   ]
  },
  {
   "cell_type": "raw",
   "metadata": {},
   "source": [
    "+--------+\n",
    "|  _c0   |\n",
    "+--------+\n",
    "| 60446  |\n",
    "+--------+"
   ]
  },
  {
   "cell_type": "markdown",
   "metadata": {},
   "source": [
    "#### 2) Average duration of titles containing the string \"world\".\n",
    "\n",
    "SELECT AVG(RUNTIMEMINUTES) FROM imdb_title_basics WHERE UCASE(primarytitle) LIKE \"%WORLD%\";"
   ]
  },
  {
   "cell_type": "raw",
   "metadata": {},
   "source": [
    "+--------------------+\n",
    "|        _c0         |\n",
    "+--------------------+\n",
    "| 64.17044819492567  |\n",
    "+--------------------+"
   ]
  },
  {
   "cell_type": "markdown",
   "metadata": {},
   "source": [
    "#### 3) Average rating of titles having the genre \"Comedy\""
   ]
  },
  {
   "cell_type": "raw",
   "metadata": {},
   "source": [
    "a) imdb_title_ratings\n",
    "+----------------+------------+----------+\n",
    "|    col_name    | data_type  | comment  |\n",
    "+----------------+------------+----------+\n",
    "| tconst         | string     |          |\n",
    "| averagerating  | double     |          |\n",
    "| numvotes       | int        |          |\n",
    "+----------------+------------+----------+\n",
    "\n",
    "b) imdb_title_basics\n",
    "+-----------------+----------------+----------+\n",
    "|    col_name     |   data_type    | comment  |\n",
    "+-----------------+----------------+----------+\n",
    "| tconst          | string         |          |\n",
    "| titletype       | string         |          |\n",
    "| primarytitle    | string         |          |\n",
    "| originaltitle   | string         |          |\n",
    "| isadult         | tinyint        |          |\n",
    "| startyear       | int            |          |\n",
    "| endyear         | int            |          |\n",
    "| runtimeminutes  | int            |          |\n",
    "| genres          | array<string>  |          |\n",
    "+-----------------+----------------+----------+"
   ]
  },
  {
   "cell_type": "markdown",
   "metadata": {},
   "source": [
    "SELECT avg(imdb_title_ratings.averagerating) \n",
    "    FROM imdb_title_ratings \n",
    "    JOIN imdb_title_basics ON imdb_title_basics.tconst = imdb_title_ratings.tconst \n",
    "    WHERE array_contains(imdb_title_basics.genres, \"Comedy\")"
   ]
  },
  {
   "cell_type": "raw",
   "metadata": {},
   "source": [
    "+--------------------+\n",
    "|        _c0         |\n",
    "+--------------------+\n",
    "| 6.970428788330674  |\n",
    "+--------------------+"
   ]
  },
  {
   "cell_type": "markdown",
   "metadata": {},
   "source": [
    "#### 4) Average rating of titles not having the genre \"Comedy\"\n",
    "    \n",
    "SELECT avg(imdb_title_ratings.averagerating) \n",
    "    FROM imdb_title_ratings \n",
    "    JOIN imdb_title_basics ON imdb_title_basics.tconst = imdb_title_ratings.tconst \n",
    "    WHERE NOT array_contains(imdb_title_basics.genres, \"Comedy\")\n"
   ]
  },
  {
   "cell_type": "raw",
   "metadata": {},
   "source": [
    "+--------------------+\n",
    "|        _c0         |\n",
    "+--------------------+\n",
    "| 6.886042545766032  |\n",
    "+--------------------+"
   ]
  },
  {
   "cell_type": "markdown",
   "metadata": {},
   "source": [
    "#### 5) Top 10 movies directed by Quentin Tarantino"
   ]
  },
  {
   "cell_type": "raw",
   "metadata": {},
   "source": [
    "imdb_title_crew    \n",
    "+-----------+----------------+----------+\n",
    "| col_name  |   data_type    | comment  |\n",
    "+-----------+----------------+----------+\n",
    "| tconst    | string         |          |\n",
    "| director  | array<string>  |          |\n",
    "| writers   | array<string>  |          |\n",
    "+-----------+----------------+----------+\n",
    "    \n",
    "imdb_name_basics\n",
    "+--------------------+----------------+----------+\n",
    "|      col_name      |   data_type    | comment  |\n",
    "+--------------------+----------------+----------+\n",
    "| nconst             | string         |          |\n",
    "| primaryname        | string         |          |\n",
    "| birthyear          | int            |          |\n",
    "| deathyear          | int            |          |\n",
    "| primaryprofession  | array<string>  |          |\n",
    "| knownfortitles     | array<string>  |          |\n",
    "+--------------------+----------------+----------+  "
   ]
  },
  {
   "cell_type": "markdown",
   "metadata": {},
   "source": [
    "#=======================================================================\n",
    "\n",
    "<b> SOLUTION 1 - USING ARRAY_CONTAINS </b>\n",
    "#=======================================================================\n",
    "\n",
    "A) Filtering the movies that have Quentin Tarantino as director\n",
    "SELECT imdb_title_crew.tconst FROM imdb_name_basics\n",
    "    JOIN imdb_title_crew ON array_contains(imdb_title_crew.director, imdb_name_basics.nconst)\n",
    "    WHERE imdb_name_basics.primaryname = 'Quentin Tarantino';"
   ]
  },
  {
   "cell_type": "markdown",
   "metadata": {},
   "source": [
    "+-------------------------+\n",
    "| imdb_title_crew.tconst  |\n",
    "+-------------------------+\n",
    "| tt3460252               |\n",
    "| tt0378194               |\n",
    "| tt0361748               |\n",
    "| tt0320037               |\n",
    "| tt0113101               |\n",
    "| tt0266697               |\n",
    "| tt0105236               |\n",
    "| tt0119396               |\n",
    "| tt0247082               |\n",
    "| tt0108757               |\n",
    "| tt0462322               |\n",
    "| tt0110912               |\n",
    "| tt0401792               |\n",
    "| tt0359715               |\n",
    "| tt1959459               |\n",
    "| tt1853728               |\n",
    "| tt6019206               |\n",
    "| tt6493238               |\n",
    "| tt1028528               |\n",
    "| tt0615681               |\n",
    "| tt7131622               |\n",
    "| tt7713358               |\n",
    "| tt0534695               |\n",
    "| tt0568048               |\n",
    "| tt0534696               |\n",
    "+-------------------------+"
   ]
  },
  {
   "cell_type": "markdown",
   "metadata": {},
   "source": [
    "B) Selecting the movies and it's rating\n",
    "SELECT imdb_title_basics.tconst, imdb_title_basics.primarytitle, imdb_title_ratings.averagerating FROM imdb_title_basics JOIN imdb_title_ratings ON imdb_title_ratings.tconst = imdb_title_basics.tconst LIMIT 10;\n",
    "    \n",
    "C) Gathering all the information\n",
    "SELECT imdb_title_basics.primarytitle, imdb_title_ratings.averagerating FROM imdb_title_basics\n",
    "    JOIN imdb_title_ratings ON imdb_title_basics.tconst = imdb_title_ratings.tconst\n",
    "    WHERE imdb_title_basics.tconst IN (SELECT imdb_title_crew.tconst FROM imdb_name_basics\n",
    "    JOIN imdb_title_crew ON array_contains(imdb_title_crew.director, imdb_name_basics.nconst)\n",
    "    WHERE imdb_name_basics.primaryname = 'Quentin Tarantino') ORDER BY imdb_title_ratings.averagerating DESC LIMIT 10;"
   ]
  },
  {
   "cell_type": "code",
   "execution_count": null,
   "metadata": {},
   "outputs": [],
   "source": [
    "+-------------------------------------+-----------------------------------+\n",
    "|   imdb_title_basics.primarytitle    | imdb_title_ratings.averagerating  |\n",
    "+-------------------------------------+-----------------------------------+\n",
    "| Pulp Fiction                        | 8.9                               |\n",
    "| Kill Bill: The Whole Bloody Affair  | 8.8                               |\n",
    "| Grave Danger: Part 2                | 8.6                               |\n",
    "| Grave Danger: Part 1                | 8.6                               |\n",
    "| Django Unchained                    | 8.4                               |\n",
    "| Reservoir Dogs                      | 8.3                               |\n",
    "| Inglourious Basterds                | 8.3                               |\n",
    "| Kill Bill: Vol. 1                   | 8.1                               |\n",
    "| Kill Bill: Vol. 2                   | 8.0                               |\n",
    "| Sin City                            | 8.0                               |\n",
    "+-------------------------------------+-----------------------------------+"
   ]
  },
  {
   "cell_type": "markdown",
   "metadata": {},
   "source": [
    "10 rows selected (54.003 seconds)\n",
    "\n",
    "#=======================================================================\n",
    "\n",
    "<b> SOLUTION 2 - USING EXPLODE </b>\n",
    "#=======================================================================\n",
    "\n",
    "\n",
    "A) Exploding the array to have one column with the expanded director in rows\n",
    "SELECT * FROM (SELECT * FROM imdb_title_crew LATERAL VIEW explode(director) exp as ndir) as exp_crew LIMIT 10;\n",
    "\n",
    "B) Compiling all the information\n",
    "\n",
    "SELECT imdb_title_basics.primarytitle, imdb_title_ratings.averagerating \n",
    "    FROM (SELECT * FROM imdb_title_crew LATERAL VIEW explode(director) exp as ndir) as exp_crew\n",
    "    JOIN imdb_name_basics ON exp_crew.ndir = imdb_name_basics.nconst\n",
    "    JOIN imdb_title_basics ON exp_crew.tconst = imdb_title_basics.tconst\n",
    "    JOIN imdb_title_ratings ON imdb_title_ratings.tconst = imdb_title_basics.tconst\n",
    "    WHERE imdb_name_basics.primaryname = \"Quentin Tarantino\"\n",
    "    ORDER BY imdb_title_ratings.averagerating DESC\n",
    "    LIMIT 10;"
   ]
  },
  {
   "cell_type": "raw",
   "metadata": {},
   "source": [
    "+-------------------------------------+-----------------------------------+\n",
    "|   imdb_title_basics.primarytitle    | imdb_title_ratings.averagerating  |\n",
    "+-------------------------------------+-----------------------------------+\n",
    "| Pulp Fiction                        | 8.9                               |\n",
    "| Kill Bill: The Whole Bloody Affair  | 8.8                               |\n",
    "| Grave Danger: Part 1                | 8.6                               |\n",
    "| Grave Danger: Part 2                | 8.6                               |\n",
    "| Django Unchained                    | 8.4                               |\n",
    "| Reservoir Dogs                      | 8.3                               |\n",
    "| Inglourious Basterds                | 8.3                               |\n",
    "| Kill Bill: Vol. 1                   | 8.1                               |\n",
    "| Sin City                            | 8.0                               |\n",
    "| Kill Bill: Vol. 2                   | 8.0                               |\n",
    "+-------------------------------------+-----------------------------------+"
   ]
  },
  {
   "cell_type": "markdown",
   "metadata": {},
   "source": [
    "10 rows selected (30.029 seconds)\n",
    "\n",
    "💡 Using EXPLODE was far away more efficient than using ARRAY_CONTAINS."
   ]
  }
 ],
 "metadata": {
  "kernelspec": {
   "display_name": "Python 3",
   "language": "python",
   "name": "python3"
  },
  "language_info": {
   "codemirror_mode": {
    "name": "ipython",
    "version": 3
   },
   "file_extension": ".py",
   "mimetype": "text/x-python",
   "name": "python",
   "nbconvert_exporter": "python",
   "pygments_lexer": "ipython3",
   "version": "3.7.6"
  }
 },
 "nbformat": 4,
 "nbformat_minor": 4
}
