{
 "cells": [
  {
   "cell_type": "markdown",
   "metadata": {},
   "source": [
    "<img src=\"https://hadoop.apache.org/hadoop-logo.jpg\" align =\"left\">\n",
    "<h1><div class=\"alert alert-block alert-info\">\n",
    "Hadoop Distributed File System (HDFS)\n",
    "</div></h1>\n",
    "<img src=\"https://d2h0cx97tjks2p.cloudfront.net/blogs/wp-content/uploads/sites/2/2017/07/hadoop-hdfs-architecture-1.jpg\">"
   ]
  },
  {
   "cell_type": "markdown",
   "metadata": {},
   "source": [
    "<h1><font color ='blue'>Practice in HDFS</font></h1>\n",
    "\n",
    "### 1. Download the most frequently downloaded e-book (in Plain Text UTF-8) from Project Gutenberg.\n",
    "\n",
    "wget http://www.gutenberg.org/files/1342/1342-0.txt\n",
    "ls\n",
    "mv 1342-0.txt pride-and-prejudice.txt\n",
    "\n",
    "### 2. Create a directory called raw inside your HDFS home directory.\n",
    "\n",
    "hdfs dfs -mkdir raw\n",
    "\n",
    "### 3. Put the downloaded e-book inside this directory.\n",
    "\n",
    "hdfs dfs -put pride-and-prejudice.txt raw\n",
    "\n",
    "### 4. Create a copy directly inside your HDFS home directory.\n",
    "\n",
    "hdfs dfs -put pride-and-prejudice.txt\n",
    "\n",
    "### 5. Rename the copy inside your HDFS home directory to input.txt.\n",
    "\n",
    "hdfs dfs -mv pride-and-prejudice.txt input.txt\n",
    "\n",
    "### 6. Read directly from HDFS the input.txt file.\n",
    "\n",
    "hdfs dfs -head input.txt\n",
    "\n",
    "### 7. Remove this file (careful with this command).\n",
    "\n",
    "hdfs dfs -rm input.txt\n",
    "\n",
    "### 8. List your HDFS home directory.\n",
    "\n",
    "hdfs dfs -ls\n",
    "\n",
    "### 9. Retrieve the file from the raw directory from HDFS to the local filesystem and rename it local.txt.\n",
    "\n",
    "hdfs dfs -get raw/pride-and-prejudice.txt local.txt"
   ]
  }
 ],
 "metadata": {
  "kernelspec": {
   "display_name": "Python 3",
   "language": "python",
   "name": "python3"
  },
  "language_info": {
   "codemirror_mode": {
    "name": "ipython",
    "version": 3
   },
   "file_extension": ".py",
   "mimetype": "text/x-python",
   "name": "python",
   "nbconvert_exporter": "python",
   "pygments_lexer": "ipython3",
   "version": "3.7.6"
  }
 },
 "nbformat": 4,
 "nbformat_minor": 4
}
